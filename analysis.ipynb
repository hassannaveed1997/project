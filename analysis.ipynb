{
 "cells": [
  {
   "cell_type": "code",
   "execution_count": 1,
   "metadata": {},
   "outputs": [],
   "source": [
    "import numpy as np\n",
    "import matplotlib.pylab as plt\n",
    "import pandas as pd\n",
    "from game import game"
   ]
  },
  {
   "cell_type": "code",
   "execution_count": 2,
   "metadata": {},
   "outputs": [
    {
     "data": {
      "text/html": [
       "<div>\n",
       "<style scoped>\n",
       "    .dataframe tbody tr th:only-of-type {\n",
       "        vertical-align: middle;\n",
       "    }\n",
       "\n",
       "    .dataframe tbody tr th {\n",
       "        vertical-align: top;\n",
       "    }\n",
       "\n",
       "    .dataframe thead th {\n",
       "        text-align: right;\n",
       "    }\n",
       "</style>\n",
       "<table border=\"1\" class=\"dataframe\">\n",
       "  <thead>\n",
       "    <tr style=\"text-align: right;\">\n",
       "      <th></th>\n",
       "      <th>cycles</th>\n",
       "      <th>winner</th>\n",
       "    </tr>\n",
       "  </thead>\n",
       "  <tbody>\n",
       "    <tr>\n",
       "      <th>0</th>\n",
       "      <td>13</td>\n",
       "      <td>A</td>\n",
       "    </tr>\n",
       "    <tr>\n",
       "      <th>1</th>\n",
       "      <td>30</td>\n",
       "      <td>A</td>\n",
       "    </tr>\n",
       "    <tr>\n",
       "      <th>2</th>\n",
       "      <td>6</td>\n",
       "      <td>A</td>\n",
       "    </tr>\n",
       "    <tr>\n",
       "      <th>3</th>\n",
       "      <td>31</td>\n",
       "      <td>B</td>\n",
       "    </tr>\n",
       "    <tr>\n",
       "      <th>4</th>\n",
       "      <td>10</td>\n",
       "      <td>A</td>\n",
       "    </tr>\n",
       "  </tbody>\n",
       "</table>\n",
       "</div>"
      ],
      "text/plain": [
       "   cycles winner\n",
       "0      13      A\n",
       "1      30      A\n",
       "2       6      A\n",
       "3      31      B\n",
       "4      10      A"
      ]
     },
     "execution_count": 2,
     "metadata": {},
     "output_type": "execute_result"
    }
   ],
   "source": [
    "# Run the game 10000 times and store the results\n",
    "cycles = []\n",
    "for i in range(10000):\n",
    "    cycles.append(game())\n",
    "\n",
    "results = pd.DataFrame(cycles, columns=[\"cycles\", \"winner\"])\n",
    "results.to_csv(\"results.csv\", index=False)\n",
    "results.head(5)"
   ]
  },
  {
   "cell_type": "code",
   "execution_count": 3,
   "metadata": {},
   "outputs": [
    {
     "data": {
      "text/html": [
       "<div>\n",
       "<style scoped>\n",
       "    .dataframe tbody tr th:only-of-type {\n",
       "        vertical-align: middle;\n",
       "    }\n",
       "\n",
       "    .dataframe tbody tr th {\n",
       "        vertical-align: top;\n",
       "    }\n",
       "\n",
       "    .dataframe thead th {\n",
       "        text-align: right;\n",
       "    }\n",
       "</style>\n",
       "<table border=\"1\" class=\"dataframe\">\n",
       "  <thead>\n",
       "    <tr style=\"text-align: right;\">\n",
       "      <th></th>\n",
       "      <th>cycles</th>\n",
       "      <th>count</th>\n",
       "    </tr>\n",
       "  </thead>\n",
       "  <tbody>\n",
       "    <tr>\n",
       "      <th>0</th>\n",
       "      <td>5</td>\n",
       "      <td>609</td>\n",
       "    </tr>\n",
       "    <tr>\n",
       "      <th>1</th>\n",
       "      <td>6</td>\n",
       "      <td>673</td>\n",
       "    </tr>\n",
       "    <tr>\n",
       "      <th>2</th>\n",
       "      <td>7</td>\n",
       "      <td>637</td>\n",
       "    </tr>\n",
       "    <tr>\n",
       "      <th>3</th>\n",
       "      <td>8</td>\n",
       "      <td>583</td>\n",
       "    </tr>\n",
       "    <tr>\n",
       "      <th>4</th>\n",
       "      <td>9</td>\n",
       "      <td>532</td>\n",
       "    </tr>\n",
       "  </tbody>\n",
       "</table>\n",
       "</div>"
      ],
      "text/plain": [
       "   cycles  count\n",
       "0       5    609\n",
       "1       6    673\n",
       "2       7    637\n",
       "3       8    583\n",
       "4       9    532"
      ]
     },
     "execution_count": 3,
     "metadata": {},
     "output_type": "execute_result"
    }
   ],
   "source": [
    "# aggregate counts of cycles\n",
    "results_grouped = results.groupby(\"cycles\", as_index=False).count()\n",
    "results_grouped.columns = [\"cycles\", \"count\"]\n",
    "results_grouped.head(5)"
   ]
  },
  {
   "cell_type": "code",
   "execution_count": 4,
   "metadata": {},
   "outputs": [
    {
     "data": {
      "image/png": "[encoded data removed]",
      "text/plain": [
       "<Figure size 1000x500 with 1 Axes>"
      ]
     },
     "metadata": {},
     "output_type": "display_data"
    }
   ],
   "source": [
    "\n",
    "# Plot the number of cycles in the results as a histogram. Make the histogram wider by setting the figsize parameter.\n",
    "fig, axes = plt.subplots(figsize=(10, 5))\n",
    "axes.bar(results_grouped[\"cycles\"], height=results_grouped[\"count\"])\n",
    "plt.show()"
   ]
  },
  {
   "cell_type": "code",
   "execution_count": 5,
   "metadata": {},
   "outputs": [
    {
     "name": "stdout",
     "output_type": "stream",
     "text": [
      "Expected number of cycles:  17.7906\n"
     ]
    }
   ],
   "source": [
    "# compute the expected number of cycles\n",
    "expected_cycles = results[\"cycles\"].mean()\n",
    "print(\"Expected number of cycles: \", expected_cycles)"
   ]
  },
  {
   "cell_type": "code",
   "execution_count": 6,
   "metadata": {},
   "outputs": [],
   "source": [
    "# Compute the distribution of the number of cycles\n",
    "# find the missing values"
   ]
  },
  {
   "attachments": {},
   "cell_type": "markdown",
   "metadata": {},
   "source": [
    "## Getting the distribution that fits the model"
   ]
  },
  {
   "cell_type": "code",
   "execution_count": 31,
   "metadata": {},
   "outputs": [
    {
     "name": "stderr",
     "output_type": "stream",
     "text": [
      "Fitting 10 distributions: 100%|██████████| 10/10 [00:00<00:00, 11.06it/s]\n"
     ]
    },
    {
     "data": {
      "text/html": [
       "<div>\n",
       "<style scoped>\n",
       "    .dataframe tbody tr th:only-of-type {\n",
       "        vertical-align: middle;\n",
       "    }\n",
       "\n",
       "    .dataframe tbody tr th {\n",
       "        vertical-align: top;\n",
       "    }\n",
       "\n",
       "    .dataframe thead th {\n",
       "        text-align: right;\n",
       "    }\n",
       "</style>\n",
       "<table border=\"1\" class=\"dataframe\">\n",
       "  <thead>\n",
       "    <tr style=\"text-align: right;\">\n",
       "      <th></th>\n",
       "      <th>sumsquare_error</th>\n",
       "      <th>aic</th>\n",
       "      <th>bic</th>\n",
       "      <th>kl_div</th>\n",
       "      <th>ks_statistic</th>\n",
       "      <th>ks_pvalue</th>\n",
       "    </tr>\n",
       "  </thead>\n",
       "  <tbody>\n",
       "    <tr>\n",
       "      <th>exponpow</th>\n",
       "      <td>0.001241</td>\n",
       "      <td>1602.990593</td>\n",
       "      <td>-158997.094994</td>\n",
       "      <td>inf</td>\n",
       "      <td>0.060900</td>\n",
       "      <td>1.104528e-32</td>\n",
       "    </tr>\n",
       "    <tr>\n",
       "      <th>gamma</th>\n",
       "      <td>0.001498</td>\n",
       "      <td>1301.213332</td>\n",
       "      <td>-157112.826122</td>\n",
       "      <td>inf</td>\n",
       "      <td>0.137662</td>\n",
       "      <td>9.116368e-166</td>\n",
       "    </tr>\n",
       "    <tr>\n",
       "      <th>expon</th>\n",
       "      <td>0.002870</td>\n",
       "      <td>1311.202740</td>\n",
       "      <td>-150618.602445</td>\n",
       "      <td>inf</td>\n",
       "      <td>0.060900</td>\n",
       "      <td>1.104528e-32</td>\n",
       "    </tr>\n",
       "    <tr>\n",
       "      <th>powerlaw</th>\n",
       "      <td>0.007154</td>\n",
       "      <td>1084.087962</td>\n",
       "      <td>-141476.348984</td>\n",
       "      <td>inf</td>\n",
       "      <td>0.314025</td>\n",
       "      <td>0.000000e+00</td>\n",
       "    </tr>\n",
       "    <tr>\n",
       "      <th>cauchy</th>\n",
       "      <td>0.014775</td>\n",
       "      <td>1296.121360</td>\n",
       "      <td>-134232.999265</td>\n",
       "      <td>inf</td>\n",
       "      <td>0.202765</td>\n",
       "      <td>0.000000e+00</td>\n",
       "    </tr>\n",
       "  </tbody>\n",
       "</table>\n",
       "</div>"
      ],
      "text/plain": [
       "          sumsquare_error          aic            bic  kl_div  ks_statistic  \\\n",
       "exponpow         0.001241  1602.990593 -158997.094994     inf      0.060900   \n",
       "gamma            0.001498  1301.213332 -157112.826122     inf      0.137662   \n",
       "expon            0.002870  1311.202740 -150618.602445     inf      0.060900   \n",
       "powerlaw         0.007154  1084.087962 -141476.348984     inf      0.314025   \n",
       "cauchy           0.014775  1296.121360 -134232.999265     inf      0.202765   \n",
       "\n",
       "              ks_pvalue  \n",
       "exponpow   1.104528e-32  \n",
       "gamma     9.116368e-166  \n",
       "expon      1.104528e-32  \n",
       "powerlaw   0.000000e+00  \n",
       "cauchy     0.000000e+00  "
      ]
     },
     "execution_count": 31,
     "metadata": {},
     "output_type": "execute_result"
    },
    {
     "data": {
      "image/png": "[encoded data removed]",
      "text/plain": [
       "<Figure size 640x480 with 1 Axes>"
      ]
     },
     "metadata": {},
     "output_type": "display_data"
    }
   ],
   "source": [
    "from fitter import Fitter, get_common_distributions, get_distributions\n",
    "\n",
    "f = Fitter(results[\"cycles\"].values,\n",
    "           distributions= get_common_distributions())\n",
    "f.fit()\n",
    "f.summary()"
   ]
  },
  {
   "cell_type": "code",
   "execution_count": 32,
   "metadata": {},
   "outputs": [
    {
     "data": {
      "text/plain": [
       "{'expon': (5.0, 12.790600000000001),\n",
       " 'norm': (17.7906, 13.000813499162273),\n",
       " 'uniform': (5.0, 102.0),\n",
       " 'rayleigh': (-1.7700413994896929, 16.607827124573372),\n",
       " 'cauchy': (12.47497915750337, 5.53072489352636),\n",
       " 'powerlaw': (0.21211554380967973, 4.999999999999999, 102.00000000000001),\n",
       " 'lognorm': (1.714665466676502, 4.93603093254467, 2.45293350245052),\n",
       " 'gamma': (0.6761939629174252, 4.999999999999999, 16.33848128299691),\n",
       " 'chi2': (1.1650801490650524, 4.999999999999999, 4.160171755816718),\n",
       " 'exponpow': (0.708081047498045, 4.999999999999999, 22.819605842156243)}"
      ]
     },
     "execution_count": 32,
     "metadata": {},
     "output_type": "execute_result"
    }
   ],
   "source": [
    "f.fitted_param"
   ]
  },
  {
   "cell_type": "code",
   "execution_count": null,
   "metadata": {},
   "outputs": [],
   "source": []
  }
 ],
 "metadata": {
  "kernelspec": {
   "display_name": "base",
   "language": "python",
   "name": "python3"
  },
  "language_info": {
   "codemirror_mode": {
    "name": "ipython",
    "version": 3
   },
   "file_extension": ".py",
   "mimetype": "text/x-python",
   "name": "python",
   "nbconvert_exporter": "python",
   "pygments_lexer": "ipython3",
   "version": "3.10.9"
  },
  "orig_nbformat": 4
 },
 "nbformat": 4,
 "nbformat_minor": 2
}
